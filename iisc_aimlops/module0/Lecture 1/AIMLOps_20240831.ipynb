{
  "nbformat": 4,
  "nbformat_minor": 0,
  "metadata": {
    "colab": {
      "private_outputs": true,
      "provenance": []
    },
    "kernelspec": {
      "name": "python3",
      "display_name": "Python 3"
    },
    "language_info": {
      "name": "python"
    }
  },
  "cells": [
    {
      "cell_type": "markdown",
      "source": [
        "# Welcome to the Python sessions"
      ],
      "metadata": {
        "id": "szlBw_u7bs1W"
      }
    },
    {
      "cell_type": "markdown",
      "source": [
        "# Problem 1\n",
        "## Euler 001\n",
        "## Multiples of 3 or 5\n",
        "\n",
        "If we list all the natural numbers below $10$ that are multiples of $3$ or $5$, we get $3, 5, 6$ and $9$. The sum of these multiples is $23$.\n",
        "\n",
        "Find the sum of all the multiples of $3$ or $5$ below $1000$."
      ],
      "metadata": {
        "id": "Dzm_NXfYcHkm"
      }
    },
    {
      "cell_type": "code",
      "source": [
        "!python --version"
      ],
      "metadata": {
        "id": "tU-6u6DPeDEU"
      },
      "execution_count": null,
      "outputs": []
    },
    {
      "cell_type": "code",
      "source": [
        "def euler001_A(limit: int) -> int:\n",
        "    n, total = 1, 0\n",
        "    while n < limit:\n",
        "        if n % 3 == 0 or n % 5 == 0:\n",
        "            total += n\n",
        "        n += 1\n",
        "    return total"
      ],
      "metadata": {
        "id": "RyYKQxonhFuE"
      },
      "execution_count": null,
      "outputs": []
    },
    {
      "cell_type": "code",
      "source": [
        "print(euler001_A(10))"
      ],
      "metadata": {
        "id": "wsDfZiY7jb4J"
      },
      "execution_count": null,
      "outputs": []
    },
    {
      "cell_type": "code",
      "source": [
        "print(euler001_A(1000))"
      ],
      "metadata": {
        "id": "yMYTuPFfjfav"
      },
      "execution_count": null,
      "outputs": []
    },
    {
      "cell_type": "code",
      "source": [
        "def select(n: int) -> bool:\n",
        "    return n % 3 == 0 or n % 5 == 0\n",
        "\n",
        "\n",
        "def euler001_B(limit: int) -> int:\n",
        "    total = 0\n",
        "    for n in range(1, limit):\n",
        "        if select(n):\n",
        "            total += n # total = total + n\n",
        "    return total"
      ],
      "metadata": {
        "id": "eWI4LyXxji5p"
      },
      "execution_count": null,
      "outputs": []
    },
    {
      "cell_type": "code",
      "source": [
        "print(euler001_B(1000))"
      ],
      "metadata": {
        "id": "PwFAQXhRl-KA"
      },
      "execution_count": null,
      "outputs": []
    },
    {
      "cell_type": "code",
      "source": [
        "range?"
      ],
      "metadata": {
        "id": "gZdV4HwzmA9q"
      },
      "execution_count": null,
      "outputs": []
    },
    {
      "cell_type": "code",
      "source": [
        "print(euler001_B(10.5))"
      ],
      "metadata": {
        "id": "SkcsRssEmWVv"
      },
      "execution_count": null,
      "outputs": []
    },
    {
      "cell_type": "code",
      "source": [
        "print(euler001_A(10.5))"
      ],
      "metadata": {
        "id": "G0J-KqKjof4c"
      },
      "execution_count": null,
      "outputs": []
    },
    {
      "cell_type": "code",
      "source": [
        "range?"
      ],
      "metadata": {
        "id": "JVurgRVxpKMu"
      },
      "execution_count": null,
      "outputs": []
    },
    {
      "cell_type": "code",
      "source": [
        "def euler001_C(limit: int) -> int:\n",
        "    return sum(range(3, limit, 3)) + sum(range(5, limit, 5)) - sum(range(15, limit, 15))"
      ],
      "metadata": {
        "id": "R6_d75XVqWW0"
      },
      "execution_count": null,
      "outputs": []
    },
    {
      "cell_type": "code",
      "source": [
        "print(euler001_C(1000))"
      ],
      "metadata": {
        "id": "_2Fnvp2Nqrms"
      },
      "execution_count": null,
      "outputs": []
    },
    {
      "cell_type": "code",
      "source": [
        "def euler001_D(limit: int) -> int:\n",
        "    return sum(set(range(3, limit, 3)) | set(range(5, limit, 5)))"
      ],
      "metadata": {
        "id": "o5XlcuI8qt9K"
      },
      "execution_count": null,
      "outputs": []
    },
    {
      "cell_type": "code",
      "source": [
        "print(euler001_D(1000))"
      ],
      "metadata": {
        "id": "LSEGcasDrytd"
      },
      "execution_count": null,
      "outputs": []
    },
    {
      "cell_type": "code",
      "source": [
        "dir()"
      ],
      "metadata": {
        "id": "uZAEw69nr146"
      },
      "execution_count": null,
      "outputs": []
    },
    {
      "cell_type": "code",
      "source": [
        "set([1, 2, 3, 3, 2]) | set([1, 3])"
      ],
      "metadata": {
        "id": "7GJ52Z0TtFUu"
      },
      "execution_count": null,
      "outputs": []
    },
    {
      "cell_type": "code",
      "source": [
        "[1, 2, 3] + [1, 3]"
      ],
      "metadata": {
        "id": "tOhQUbVquYxK"
      },
      "execution_count": null,
      "outputs": []
    },
    {
      "cell_type": "code",
      "source": [
        "def select(k: int) -> bool:\n",
        "    return (k % 3) * (k % 5) == 0"
      ],
      "metadata": {
        "id": "ppzOtO0AvAJ7"
      },
      "execution_count": null,
      "outputs": []
    },
    {
      "cell_type": "code",
      "source": [
        "def euler001_E(limit: int) -> int:\n",
        "    return sum(filter(select, range(1, limit)))"
      ],
      "metadata": {
        "id": "aoBvkY7VwMvf"
      },
      "execution_count": null,
      "outputs": []
    },
    {
      "cell_type": "code",
      "source": [
        "print(euler001_E(1000))"
      ],
      "metadata": {
        "id": "HQar2wEIwjHr"
      },
      "execution_count": null,
      "outputs": []
    },
    {
      "cell_type": "code",
      "source": [
        "filter?"
      ],
      "metadata": {
        "id": "GrWS_WPCwl_Y"
      },
      "execution_count": null,
      "outputs": []
    },
    {
      "cell_type": "code",
      "source": [
        "def odd(n: int) -> bool:\n",
        "    return n % 2 == 1"
      ],
      "metadata": {
        "id": "48Dnr8dk1Wyj"
      },
      "execution_count": null,
      "outputs": []
    },
    {
      "cell_type": "code",
      "source": [
        "filter(odd, [1, 6, 9, 4, 11, 9])"
      ],
      "metadata": {
        "id": "68mHF8ZP6dKL"
      },
      "execution_count": null,
      "outputs": []
    },
    {
      "cell_type": "code",
      "source": [
        "list(filter(odd, [1, 6, 9, 4, 11, 9]))"
      ],
      "metadata": {
        "id": "IkM3GIlT6hTY"
      },
      "execution_count": null,
      "outputs": []
    },
    {
      "cell_type": "code",
      "source": [
        "sum?"
      ],
      "metadata": {
        "id": "E6KQ7Z0A6lua"
      },
      "execution_count": null,
      "outputs": []
    },
    {
      "cell_type": "code",
      "source": [
        "set(filter(odd, [1, 6, 9, 4, 11, 9]))"
      ],
      "metadata": {
        "id": "SP8zj0LT7O2p"
      },
      "execution_count": null,
      "outputs": []
    },
    {
      "cell_type": "code",
      "source": [
        "filter?"
      ],
      "metadata": {
        "id": "qaCdU9sd8L5H"
      },
      "execution_count": null,
      "outputs": []
    },
    {
      "cell_type": "markdown",
      "source": [
        "# 7, 22, 11, 34, 17, 52, 26, 13, 40, 20, 10, 5, 16, 8, 4, 2, 1\n",
        "\n",
        "# 19, 58, 29, 88, 44, 22, 11, 34 ....\n",
        "\n",
        "# Collatz Sequence\n",
        "\n",
        "Write a function that takes the strating number as the parameter and returns the Collatz sequence.\n",
        "\n",
        "Collatz sequence starts with the given number and ends in $4, 2, 1$"
      ],
      "metadata": {
        "id": "mTOPMD1V-CfK"
      }
    },
    {
      "cell_type": "code",
      "source": [
        "def next_collatz(n: int) -> int:\n",
        "    return (n // 2) if n % 2 == 0 else 3 * n + 1\n",
        "    # ternary operator => n % 2 == 0 ? n // 2 : 3 * n + 1"
      ],
      "metadata": {
        "id": "hfXtEpKF-54U"
      },
      "execution_count": null,
      "outputs": []
    },
    {
      "cell_type": "code",
      "source": [
        "def collatz_seq(start: int) -> list[int]:\n",
        "    if start == 4:\n",
        "        return [4, 2, 1]\n",
        "    else:\n",
        "        return [start] + collatz_seq(next_collatz(start))"
      ],
      "metadata": {
        "id": "x43sUR48BDb5"
      },
      "execution_count": null,
      "outputs": []
    },
    {
      "cell_type": "code",
      "source": [
        "print(collatz_seq(7))"
      ],
      "metadata": {
        "id": "hPUkqGCbBT4s"
      },
      "execution_count": null,
      "outputs": []
    },
    {
      "cell_type": "code",
      "source": [
        "def collatz_while(start: int) -> list[int]:\n",
        "    seq = []\n",
        "    while start != 4:\n",
        "        seq.append(start)\n",
        "        start = next_collatz(start)\n",
        "    return seq + [4, 2, 1]"
      ],
      "metadata": {
        "id": "Egx5nDWSBXYZ"
      },
      "execution_count": null,
      "outputs": []
    },
    {
      "cell_type": "code",
      "source": [
        "print(collatz_seq(3))"
      ],
      "metadata": {
        "id": "DoiVmv35EElN"
      },
      "execution_count": null,
      "outputs": []
    },
    {
      "cell_type": "code",
      "source": [
        "print(collatz_seq(0))"
      ],
      "metadata": {
        "id": "qw4cfCQcFdKb"
      },
      "execution_count": null,
      "outputs": []
    },
    {
      "cell_type": "code",
      "source": [
        "def validated_collatz(start: int) -> list[int]:\n",
        "    if start > 0:\n",
        "        return collatz_seq(start)\n",
        "    else:\n",
        "        return [-1]"
      ],
      "metadata": {
        "id": "NKDk3xjjFlKX"
      },
      "execution_count": null,
      "outputs": []
    },
    {
      "cell_type": "code",
      "source": [],
      "metadata": {
        "id": "IoFml_y7GMdl"
      },
      "execution_count": null,
      "outputs": []
    }
  ]
}